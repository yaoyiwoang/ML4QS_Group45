{
 "cells": [
  {
   "cell_type": "code",
   "execution_count": 1,
   "id": "ab0019fb-fc06-4c42-b0b9-71cc54f0f9e7",
   "metadata": {},
   "outputs": [],
   "source": [
    "import matplotlib.pyplot as plt\n",
    "from itertools import product\n",
    "import seaborn as sns\n",
    "import pandas as pd\n",
    "import numpy as np\n",
    "import os"
   ]
  },
  {
   "cell_type": "code",
   "execution_count": 2,
   "id": "30f740b7-464f-4e90-9041-41ce406954df",
   "metadata": {},
   "outputs": [],
   "source": [
    "# Read the data\n",
    "df = pd.read_csv(\"./data/aggregate_data.csv\")"
   ]
  },
  {
   "cell_type": "code",
   "execution_count": 3,
   "id": "b950ea86-5559-406a-b376-25d9edf0cc61",
   "metadata": {},
   "outputs": [
    {
     "name": "stderr",
     "output_type": "stream",
     "text": [
      "/var/folders/j8/3by2_yfj2tb3sn3c_6m1s3rc0000gn/T/ipykernel_78991/810398866.py:2: FutureWarning: \n",
      "\n",
      "Passing `palette` without assigning `hue` is deprecated and will be removed in v0.14.0. Assign the `x` variable to `hue` and set `legend=False` for the same effect.\n",
      "\n",
      "  sns.countplot(x='stress_level', data=df, palette='viridis')\n"
     ]
    },
    {
     "data": {
      "image/png": "[encoded data removed]",
      "text/plain": [
       "<Figure size 1000x600 with 1 Axes>"
      ]
     },
     "metadata": {},
     "output_type": "display_data"
    }
   ],
   "source": [
    "plt.figure(figsize=(10, 6))\n",
    "sns.countplot(x='stress_level', data=df, palette='viridis')\n",
    "plt.title('Distribution of Stress Levels')\n",
    "plt.xlabel('Stress Level')\n",
    "plt.ylabel('Count')\n",
    "plt.show()"
   ]
  },
  {
   "cell_type": "code",
   "execution_count": 4,
   "id": "4207644b-6a8a-46a4-a9b6-5e358c274801",
   "metadata": {},
   "outputs": [],
   "source": [
    "from sklearn.model_selection import train_test_split\n",
    "from sklearn.metrics import accuracy_score\n",
    "from sklearn.metrics import roc_auc_score\n",
    "from sklearn.preprocessing import label_binarize\n",
    "from sklearn.preprocessing import StandardScaler"
   ]
  },
  {
   "cell_type": "code",
   "execution_count": 5,
   "id": "636506ee-f5a8-49bd-a19e-e8bb03f6760c",
   "metadata": {},
   "outputs": [],
   "source": [
    "# Define features (X) and target variable (y)\n",
    "X = df.drop(columns=['trial', 'experimenter', 'heart_rate', 'stress_level'])\n",
    "y = df['stress_level']\n",
    "\n",
    "scaler = StandardScaler()\n",
    "scaler = scaler.fit(X)\n",
    "X = scaler.transform(X)"
   ]
  },
  {
   "cell_type": "code",
   "execution_count": 9,
   "id": "3de602f9-c094-4c2a-9fa0-96d19b0bdb48",
   "metadata": {},
   "outputs": [],
   "source": [
    "def train_test_split_by_experimenter(X, y, data: pd.DataFrame, experimenter_name: str):\n",
    "    \"\"\"\n",
    "    Splits the features and target into training and testing sets based on the experimenter.\n",
    "    \n",
    "    Parameters:\n",
    "    X (pd.DataFrame or np.ndarray): The feature DataFrame or array.\n",
    "    y (pd.Series or np.ndarray): The target Series or array.\n",
    "    data (pd.DataFrame): The input DataFrame containing a column named 'experimenter'.\n",
    "    experimenter_name (str): The name of the experimenter to filter by.\n",
    "    \n",
    "    Returns:\n",
    "    pd.DataFrame or np.ndarray, pd.DataFrame or np.ndarray, pd.Series or np.ndarray, pd.Series or np.ndarray:\n",
    "    X_train, X_test, y_train, y_test\n",
    "    \"\"\"\n",
    "    # Check if the 'experimenter' column exists in the DataFrame\n",
    "    if 'experimenter' not in data.columns:\n",
    "        raise ValueError(\"The input DataFrame must contain a column named 'experimenter'.\")\n",
    "    \n",
    "    # Identify the indices for the specified experimenter and the others\n",
    "    train_indices = data[data['experimenter'] != experimenter_name].index.tolist()\n",
    "    test_indices = data[data['experimenter'] == experimenter_name].index.tolist()\n",
    "    \n",
    "    # Split the features and target into training and testing sets\n",
    "    if isinstance(X, pd.DataFrame):\n",
    "        X_train = X.iloc[train_indices]\n",
    "        X_test = X.iloc[test_indices]\n",
    "    else:\n",
    "        X_train = X[train_indices]\n",
    "        X_test = X[test_indices]\n",
    "        \n",
    "    if isinstance(y, pd.Series):\n",
    "        y_train = y.iloc[train_indices]\n",
    "        y_test = y.iloc[test_indices]\n",
    "    else:\n",
    "        y_train = y[train_indices]\n",
    "        y_test = y[test_indices]\n",
    "    \n",
    "    return X_train, X_test, y_train, y_test"
   ]
  },
  {
   "cell_type": "code",
   "execution_count": 10,
   "id": "82083b69-67de-44e3-bfb4-bf8c1d3fa197",
   "metadata": {},
   "outputs": [],
   "source": [
    "X_train, X_test, y_train, y_test = train_test_split_by_experimenter(X, y, df, 'Kiara')\n",
    "y_test_one_hot = label_binarize(y_test, classes=np.unique(y_test))"
   ]
  },
  {
   "cell_type": "markdown",
   "id": "16b1ee00-92cd-4369-a0fa-af10eeaa4f91",
   "metadata": {},
   "source": [
    "# **Random Forest**"
   ]
  },
  {
   "cell_type": "code",
   "execution_count": 11,
   "id": "d519bac6-8811-4021-b48f-d1799e54a78d",
   "metadata": {},
   "outputs": [],
   "source": [
    "from sklearn.ensemble import RandomForestClassifier"
   ]
  },
  {
   "cell_type": "code",
   "execution_count": null,
   "id": "ae709ff9-705e-4129-86b8-119e41caeac2",
   "metadata": {},
   "outputs": [],
   "source": [
    "# random forest classification:\n",
    "y_train = [int(i) for i in y_train]\n",
    "y_test = [int(i) for i in y_test]\n",
    "\n",
    "from sklearn.ensemble import RandomForestClassifier\n",
    "estimator = RandomForestClassifier()\n",
    "\n",
    "from sklearn.model_selection import GridSearchCV\n",
    "param_dict = {'n_estimators': [50, 100, 120, 150, 200, 300],\n",
    "             'max_depth':[5, 8, 10, 15, 25, 30]}\n",
    "estimator = GridSearchCV(estimator, param_grid = param_dict, cv=5)\n",
    "estimator.fit(X_train, y_train)\n",
    "y_predict = estimator.predict(X_test)\n",
    "\n",
    "from sklearn.metrics import accuracy_score\n",
    "\n",
    "rf_accuracy = accuracy_score(y_test, y_predict)\n",
    "\n",
    "print(\"Accuracy:\", round(rf_accuracy, 3))\n",
    "### Grid Search model evaluation:\n",
    "# method 1: compare y_test with y_predict\n",
    "print('y_predict:\\n', y_predict)\n",
    "print('true value versus prediction', y_test == y_predict)\n",
    "# method 2: calculate precision score\n",
    "score = estimator.score(X_test, y_test)\n",
    "print('precision:\\n', score)\n",
    "# best_params_\n",
    "print(\"Best parameter:\\n\", estimator.best_params_)\n",
    "# best_score_\n",
    "print(\"Best score:\\n\", estimator.best_score_)\n",
    "# best_estimator_\n",
    "print(\"Best estimator:\\n\", estimator.best_estimator_)\n",
    "# cv_results_\n",
    "print(\"Cross-validation results:\\n\", estimator.cv_results_)\n",
    "\n",
    "score = estimator.score(X_test, y_test)"
   ]
  },
  {
   "cell_type": "code",
   "execution_count": null,
   "id": "6ae807a2-fded-4eb0-9518-c0210363c743",
   "metadata": {},
   "outputs": [],
   "source": [
    "# best result from grid search\n",
    "estimator = RandomForestClassifier(max_depth=8, n_estimators=120)\n",
    "estimator.fit(X_train, y_train)\n",
    "y_predict = estimator.predict(X_test)\n",
    "\n",
    "from sklearn.metrics import accuracy_score\n",
    "\n",
    "rf_accuracy = accuracy_score(y_test, y_predict)\n",
    "\n",
    "print(\"Accuracy:\", round(rf_accuracy, 3))"
   ]
  },
  {
   "cell_type": "code",
   "execution_count": null,
   "id": "7a542b9a-b41f-45c5-a9f4-1011df3fc582",
   "metadata": {},
   "outputs": [],
   "source": [
    "# Calculation of F1, precision, accuracy, and recall\n",
    "from sklearn.metrics import accuracy_score, recall_score, precision_score ,f1_score#, roc_curve, roc_auc_score\n",
    "# fpr, tpr, thresholds = roc_curve(y_test, y_predict)\n",
    "# auc = roc_auc_score(y_test, y_predict)\n",
    "f1 = f1_score(y_test, y_predict, average='weighted')\n",
    "print('F1 Score:', f1)\n",
    "precision = precision_score(y_test, y_predict, average = 'weighted')\n",
    "accuracy = accuracy_score(y_test, y_predict)\n",
    "recall = recall_score(y_test, y_predict, average = 'weighted')\n",
    "print(precision, \"\\n\",  accuracy, '\\n', recall)"
   ]
  },
  {
   "cell_type": "code",
   "execution_count": null,
   "id": "72e49991-6fc2-4d4b-84d2-2256bcc3f1d0",
   "metadata": {},
   "outputs": [],
   "source": [
    "y_pred_proba = estimator.predict_proba(X_test)"
   ]
  },
  {
   "cell_type": "code",
   "execution_count": null,
   "id": "f93a7d38-01cf-4308-bad4-d024b650f7bb",
   "metadata": {},
   "outputs": [],
   "source": [
    "accuracy = accuracy_score(y_test, y_predict)\n",
    "print(\"Accuracy:\", round(accuracy, 3))"
   ]
  },
  {
   "cell_type": "code",
   "execution_count": null,
   "id": "ef56b601-b1df-4ed7-a563-72c8fe4e49ad",
   "metadata": {},
   "outputs": [],
   "source": [
    "roc_auc = roc_auc_score(y_test_one_hot, y_pred_proba, multi_class='ovo')\n",
    "print(\"ROC AUC:\", round(roc_auc, 4))"
   ]
  },
  {
   "cell_type": "code",
   "execution_count": null,
   "id": "f27efaca-c28b-477c-bc22-bea3e6dbddf9",
   "metadata": {},
   "outputs": [],
   "source": [
    "from sklearn.metrics import roc_curve, auc\n",
    "from sklearn import datasets\n",
    "from sklearn.multiclass import OneVsRestClassifier\n",
    "from sklearn.svm import LinearSVC\n",
    "from sklearn.preprocessing import label_binarize\n",
    "from sklearn.model_selection import train_test_split\n",
    "import matplotlib.pyplot as plt"
   ]
  },
  {
   "cell_type": "code",
   "execution_count": null,
   "id": "9b8da06e-ac4f-430d-afa5-df1ea49a5942",
   "metadata": {},
   "outputs": [],
   "source": [
    "y_score = estimator.fit(X_train, y_train).predict_proba(X_test)"
   ]
  },
  {
   "cell_type": "code",
   "execution_count": null,
   "id": "e33f4116-66a3-4d40-b3ab-bea220961c84",
   "metadata": {},
   "outputs": [],
   "source": [
    "from sklearn.preprocessing import LabelBinarizer\n",
    "\n",
    "label_binarizer = LabelBinarizer().fit(y_test)\n",
    "y_onehot_test = label_binarizer.transform(y_test)\n",
    "y_onehot_test.shape  # (n_samples, n_classes)"
   ]
  },
  {
   "cell_type": "code",
   "execution_count": null,
   "id": "eebf399f-c814-4ddc-a67d-2c3a1eb0127a",
   "metadata": {},
   "outputs": [],
   "source": [
    "class_of_interest = 2\n",
    "class_id = np.flatnonzero(label_binarizer.classes_ == class_of_interest)[0]\n",
    "class_id"
   ]
  },
  {
   "cell_type": "code",
   "execution_count": null,
   "id": "4f9300bf-ff00-4952-bbc7-7611a40795f5",
   "metadata": {},
   "outputs": [],
   "source": [
    "print(np.unique(y_test))\n",
    "print(np.unique(y_predict))"
   ]
  },
  {
   "cell_type": "code",
   "execution_count": null,
   "id": "ce74adca-3071-45f9-8493-6b1d911d1371",
   "metadata": {},
   "outputs": [],
   "source": [
    "import matplotlib.pyplot as plt\n",
    "\n",
    "from sklearn.metrics import RocCurveDisplay\n",
    "\n",
    "display = RocCurveDisplay.from_predictions(\n",
    "    y_onehot_test[:, class_id],\n",
    "    y_score[:, class_id],\n",
    "    name=f\"{class_of_interest} vs the rest\",\n",
    "    color=\"darkorange\",\n",
    "    # plot_chance_level=True,\n",
    ")\n",
    "_ = display.ax_.set(\n",
    "    xlabel=\"False Positive Rate\",\n",
    "    ylabel=\"True Positive Rate\",\n",
    "    title=f\"One-vs-Rest ROC curves:\\nStress Level {2} vs Other Stress Level\",\n",
    ")"
   ]
  },
  {
   "cell_type": "code",
   "execution_count": null,
   "id": "a3694dc9-b4e6-4894-b432-cac9897dd03b",
   "metadata": {},
   "outputs": [],
   "source": [
    "display = RocCurveDisplay.from_predictions(\n",
    "    y_onehot_test.ravel(),\n",
    "    y_score.ravel(),\n",
    "    name=\"micro-average OvR\",\n",
    "    color=\"darkorange\",\n",
    "    # plot_chance_level=True,\n",
    ")\n",
    "_ = display.ax_.set(\n",
    "    xlabel=\"False Positive Rate\",\n",
    "    ylabel=\"True Positive Rate\",\n",
    "    title=\"Micro-averaged One-vs-Rest\\nReceiver Operating Characteristic\",\n",
    ")"
   ]
  },
  {
   "cell_type": "code",
   "execution_count": null,
   "id": "965d495b-9201-44e7-83b1-a840ddbb2ef0",
   "metadata": {},
   "outputs": [],
   "source": [
    "from sklearn.metrics import auc, roc_curve, roc_auc_score\n",
    "macro_roc_auc_ovr = roc_auc_score(\n",
    "    y_test,\n",
    "    y_score,\n",
    "    multi_class=\"ovr\",\n",
    "    average=\"macro\",\n",
    ")\n",
    "\n",
    "print(f\"Macro-averaged One-vs-Rest ROC AUC score:\\n{macro_roc_auc_ovr:.2f}\")\n",
    "fpr, tpr, roc_auc_dict = dict(), dict(), dict()"
   ]
  },
  {
   "cell_type": "code",
   "execution_count": null,
   "id": "bc7c368a-2429-46a5-9cd6-ebe1dd439275",
   "metadata": {},
   "outputs": [],
   "source": [
    "for i in range(len(np.unique(y_test))):\n",
    "    fpr[i], tpr[i], _ = roc_curve(y_onehot_test[:, i], y_score[:, i])\n",
    "    roc_auc_dict[i] = auc(fpr[i], tpr[i])\n",
    "\n",
    "fpr_grid = np.linspace(0.0, 1.0, 1000)\n",
    "\n",
    "mean_tpr = np.zeros_like(fpr_grid)\n",
    "\n",
    "for i in range(len(np.unique(y_test))):\n",
    "    mean_tpr += np.interp(fpr_grid, fpr[i], tpr[i])\n",
    "\n",
    "mean_tpr /= len(np.unique(y_test))\n",
    "\n",
    "fpr[\"macro\"] = fpr_grid\n",
    "tpr[\"macro\"] = mean_tpr\n",
    "roc_auc_dict[\"macro\"] = auc(fpr[\"macro\"], tpr[\"macro\"])\n",
    "\n",
    "print(f\"Macro-averaged One-vs-Rest ROC AUC score:\\n{roc_auc_dict['macro']:.2f}\")"
   ]
  },
  {
   "cell_type": "code",
   "execution_count": null,
   "id": "bc578804-8d1c-4fea-81d1-64d9ff4189fa",
   "metadata": {},
   "outputs": [],
   "source": [
    "from itertools import cycle\n",
    "\n",
    "fig, ax = plt.subplots(figsize=(6, 6))\n",
    "\n",
    "plt.plot(\n",
    "    fpr[\"macro\"],\n",
    "    tpr[\"macro\"],\n",
    "    label=f\"macro-average ROC curve (AUC = {roc_auc_dict['macro']:.2f})\",\n",
    "    color=\"navy\",\n",
    "    linestyle=\":\",\n",
    "    linewidth=4,\n",
    ")\n",
    "\n",
    "colors = cycle([\"#1f77b4\", \"#ff7f0e\", \"#2ca02c\", \"#d62728\", \"#9467bd\", \"#8c564b\"])\n",
    "\n",
    "for class_id, color in zip(range(len(np.unique(y))), colors):\n",
    "    RocCurveDisplay.from_predictions(\n",
    "        y_onehot_test[:, class_id-1],\n",
    "        y_score[:, class_id-1],\n",
    "        name=f\"ROC curve for {np.unique(y_test)[class_id-1]}\",\n",
    "        color=color,\n",
    "        ax=ax,\n",
    "        # plot_chance_level=(class_id == 2),\n",
    "    )\n",
    "\n",
    "_ = ax.set(\n",
    "    xlabel=\"False Positive Rate\",\n",
    "    ylabel=\"True Positive Rate\",\n",
    "    title=\"Extension of Receiver Operating Characteristic\\nto One-vs-Rest multiclass\",\n",
    ")"
   ]
  },
  {
   "cell_type": "code",
   "execution_count": null,
   "id": "f8ac7b8a-6cb5-4f2c-a822-afe99469e777",
   "metadata": {},
   "outputs": [],
   "source": [
    "def backward_feature_selection_roc(df, model, best_roc_auc):\n",
    "\n",
    "    best_roc_auc = best_roc_auc\n",
    "\n",
    "    drop_cols = ['id', 'time_period_start', 'time_period_end', 'tomorrow_mood_mean', 'tomorrow_mood_class']\n",
    "\n",
    "    feature_deleted = True\n",
    "\n",
    "    while feature_deleted:\n",
    "\n",
    "        feature_deleted = False\n",
    "\n",
    "        features = df.drop(columns=drop_cols).columns\n",
    "\n",
    "        for feature in features:\n",
    "\n",
    "            X = df.drop(columns=drop_cols).drop(columns=[feature])\n",
    "            y = df['tomorrow_mood_class']\n",
    "\n",
    "            print(f\"current feature: {feature} / {len(X.columns)}\")\n",
    "\n",
    "            X_train, X_test, y_train, y_test = train_test_split(X, y, test_size=0.3, random_state=0)\n",
    "            y_test_one_hot = label_binarize(y_test, classes=np.unique(y_test))\n",
    "\n",
    "            model.fit(X_train, y_train)\n",
    "            y_pred_proba = model.predict_proba(X_test)\n",
    "\n",
    "            roc_auc = roc_auc_score(y_test_one_hot, y_pred_proba, multi_class='ovo')\n",
    "\n",
    "            print(f\"ROC-AUC: {roc_auc}\")\n",
    "\n",
    "            if roc_auc > best_roc_auc:\n",
    "                feature_deleted = True\n",
    "                print(f\"BETTER\")\n",
    "                best_roc_auc = roc_auc\n",
    "                df = df.drop(columns=[feature])\n",
    "\n",
    "    print(f\"result: {len(df.drop(columns=drop_cols).columns)} features\")\n",
    "    return df, best_roc_auc"
   ]
  },
  {
   "cell_type": "code",
   "execution_count": null,
   "id": "5f812156-42f0-46c8-9616-cdac94b7c551",
   "metadata": {},
   "outputs": [],
   "source": [
    "feature_selection_df, best_auc = backward_feature_selection_roc(aggregated_data_5, estimator, roc_auc)"
   ]
  },
  {
   "cell_type": "code",
   "execution_count": null,
   "id": "91fb6367-b5d8-4e3e-918e-086ea7bde21d",
   "metadata": {},
   "outputs": [],
   "source": [
    "aggregated_data_5 = feature_selection_df"
   ]
  },
  {
   "cell_type": "code",
   "execution_count": null,
   "id": "b560cde4-b201-44d4-8ae7-ba9e71c65e66",
   "metadata": {},
   "outputs": [],
   "source": [
    "aggregated_data_5"
   ]
  },
  {
   "cell_type": "code",
   "execution_count": null,
   "id": "3fd3cb0e-d663-4efc-bb85-bdb7252751ed",
   "metadata": {},
   "outputs": [],
   "source": [
    "best_auc"
   ]
  },
  {
   "cell_type": "code",
   "execution_count": null,
   "id": "a37a86ea-8124-4c9d-b56b-189f46b68253",
   "metadata": {},
   "outputs": [],
   "source": []
  },
  {
   "cell_type": "code",
   "execution_count": null,
   "id": "244f726b-041a-4965-a1ad-59935c7f3f48",
   "metadata": {},
   "outputs": [],
   "source": []
  }
 ],
 "metadata": {
  "kernelspec": {
   "display_name": "Python 3 (ipykernel)",
   "language": "python",
   "name": "python3"
  },
  "language_info": {
   "codemirror_mode": {
    "name": "ipython",
    "version": 3
   },
   "file_extension": ".py",
   "mimetype": "text/x-python",
   "name": "python",
   "nbconvert_exporter": "python",
   "pygments_lexer": "ipython3",
   "version": "3.9.18"
  }
 },
 "nbformat": 4,
 "nbformat_minor": 5
}
